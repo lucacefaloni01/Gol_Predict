{
 "cells": [
  {
   "cell_type": "code",
   "execution_count": 1,
   "metadata": {},
   "outputs": [],
   "source": [
    "#Librerie\n",
    "import pandas as pd\n",
    "import matplotlib.pyplot as plt\n",
    "import numpy as np\n",
    "from scipy.stats import poisson \n",
    "from statistics import median\n",
    "from matplotlib import pyplot"
   ]
  },
  {
   "attachments": {},
   "cell_type": "markdown",
   "metadata": {},
   "source": [
    "## Dati"
   ]
  },
  {
   "attachments": {},
   "cell_type": "markdown",
   "metadata": {},
   "source": [
    "## Serie A"
   ]
  },
  {
   "cell_type": "code",
   "execution_count": 3,
   "metadata": {},
   "outputs": [
    {
     "name": "stdout",
     "output_type": "stream",
     "text": [
      "********\n",
      "********\n",
      "********\n",
      "********\n",
      "********\n",
      "********\n",
      "********\n",
      "********\n",
      "********\n",
      "********\n",
      "********\n",
      "********\n",
      "********\n",
      "********\n",
      "********\n",
      "********\n",
      "********\n",
      "********\n",
      "********\n",
      "********\n",
      "********\n",
      "********\n",
      "********\n",
      "********\n",
      "********\n",
      "********\n",
      "********\n",
      "********\n",
      "********\n",
      "********\n",
      "********\n",
      "********\n",
      "********\n",
      "********\n",
      "********\n",
      "********\n",
      "********\n",
      "********\n",
      "********\n",
      "********\n",
      "********\n",
      "********\n",
      "********\n",
      "********\n",
      "********\n",
      "********\n",
      "********\n",
      "********\n",
      "********\n",
      "********\n",
      "********\n",
      "********\n",
      "********\n",
      "********\n",
      "********\n",
      "********\n",
      "********\n",
      "********\n",
      "********\n",
      "********\n",
      "********\n",
      "********\n",
      "********\n",
      "********\n",
      "********\n",
      "********\n",
      "********\n",
      "********\n",
      "********\n",
      "********\n",
      "********\n",
      "********\n",
      "********\n",
      "********\n",
      "********\n",
      "********\n",
      "********\n",
      "********\n",
      "********\n",
      "********\n",
      "********\n",
      "********\n",
      "********\n",
      "********\n",
      "********\n",
      "********\n",
      "********\n",
      "********\n",
      "********\n",
      "********\n",
      "********\n",
      "********\n",
      "********\n",
      "********\n",
      "********\n",
      "********\n",
      "********\n",
      "********\n",
      "********\n",
      "********\n",
      "********\n",
      "********\n",
      "********\n",
      "********\n",
      "********\n",
      "********\n",
      "********\n",
      "********\n",
      "********\n",
      "********\n",
      "********\n",
      "********\n",
      "********\n",
      "********\n",
      "********\n",
      "********\n",
      "********\n",
      "********\n",
      "********\n",
      "********\n",
      "********\n",
      "********\n",
      "********\n",
      "********\n",
      "********\n",
      "********\n",
      "********\n",
      "********\n",
      "********\n",
      "********\n",
      "********\n",
      "********\n",
      "********\n",
      "********\n",
      "********\n",
      "********\n",
      "********\n",
      "********\n",
      "********\n",
      "********\n",
      "********\n",
      "********\n",
      "********\n",
      "********\n",
      "********\n",
      "********\n",
      "********\n",
      "********\n",
      "********\n",
      "********\n",
      "********\n",
      "********\n",
      "********\n",
      "********\n",
      "********\n",
      "********\n",
      "********\n",
      "********\n",
      "********\n",
      "********\n",
      "********\n",
      "********\n",
      "********\n",
      "********\n",
      "********\n",
      "********\n",
      "********\n",
      "********\n",
      "********\n",
      "********\n",
      "********\n",
      "********\n",
      "********\n",
      "********\n",
      "********\n",
      "********\n",
      "********\n",
      "********\n",
      "********\n",
      "********\n",
      "********\n",
      "********\n",
      "********\n",
      "********\n",
      "********\n",
      "********\n",
      "********\n",
      "********\n",
      "********\n",
      "********\n",
      "********\n",
      "********\n",
      "********\n",
      "********\n",
      "********\n",
      "********\n",
      "********\n",
      "********\n",
      "********\n",
      "********\n",
      "********\n",
      "********\n",
      "********\n",
      "********\n",
      "********\n",
      "********\n",
      "********\n",
      "********\n",
      "********\n",
      "********\n",
      "********\n",
      "********\n",
      "********\n",
      "********\n",
      "********\n",
      "********\n",
      "********\n",
      "********\n",
      "********\n",
      "********\n",
      "********\n",
      "********\n",
      "********\n",
      "********\n",
      "********\n",
      "********\n",
      "********\n",
      "********\n",
      "********\n",
      "********\n",
      "********\n",
      "********\n",
      "********\n",
      "********\n",
      "********\n",
      "********\n",
      "********\n",
      "********\n",
      "********\n",
      "********\n",
      "********\n",
      "********\n",
      "********\n",
      "********\n",
      "********\n",
      "********\n",
      "********\n",
      "********\n",
      "********\n",
      "********\n",
      "********\n",
      "********\n",
      "********\n",
      "********\n",
      "********\n",
      "********\n",
      "********\n",
      "********\n",
      "********\n",
      "********\n",
      "********\n",
      "********\n",
      "********\n",
      "********\n",
      "********\n",
      "********\n",
      "********\n",
      "********\n",
      "********\n",
      "********\n",
      "********\n",
      "********\n",
      "********\n",
      "********\n",
      "********\n",
      "********\n",
      "********\n",
      "********\n",
      "********\n",
      "********\n",
      "********\n",
      "********\n",
      "********\n",
      "********\n",
      "********\n",
      "********\n",
      "********\n",
      "********\n",
      "********\n",
      "********\n",
      "********\n",
      "********\n",
      "********\n",
      "********\n",
      "********\n",
      "********\n",
      "********\n",
      "********\n",
      "********\n",
      "********\n",
      "********\n",
      "********\n",
      "********\n",
      "********\n",
      "SerieA Upload!\n"
     ]
    },
    {
     "name": "stderr",
     "output_type": "stream",
     "text": [
      "<ipython-input-3-9a3ec04d9e1f>:225: SettingWithCopyWarning: \n",
      "A value is trying to be set on a copy of a slice from a DataFrame.\n",
      "Try using .loc[row_indexer,col_indexer] = value instead\n",
      "\n",
      "See the caveats in the documentation: https://pandas.pydata.org/pandas-docs/stable/user_guide/indexing.html#returning-a-view-versus-a-copy\n",
      "  Sampdoria['Rf'] = pd.Series(x).astype(float)\n",
      "<ipython-input-3-9a3ec04d9e1f>:229: SettingWithCopyWarning: \n",
      "A value is trying to be set on a copy of a slice from a DataFrame.\n",
      "Try using .loc[row_indexer,col_indexer] = value instead\n",
      "\n",
      "See the caveats in the documentation: https://pandas.pydata.org/pandas-docs/stable/user_guide/indexing.html#returning-a-view-versus-a-copy\n",
      "  Sampdoria['Rs'] = pd.Series(y).astype(float)\n",
      "<ipython-input-3-9a3ec04d9e1f>:234: SettingWithCopyWarning: \n",
      "A value is trying to be set on a copy of a slice from a DataFrame.\n",
      "Try using .loc[row_indexer,col_indexer] = value instead\n",
      "\n",
      "See the caveats in the documentation: https://pandas.pydata.org/pandas-docs/stable/user_guide/indexing.html#returning-a-view-versus-a-copy\n",
      "  Cremonese['Rf'] = pd.Series(x).astype(float)\n",
      "<ipython-input-3-9a3ec04d9e1f>:238: SettingWithCopyWarning: \n",
      "A value is trying to be set on a copy of a slice from a DataFrame.\n",
      "Try using .loc[row_indexer,col_indexer] = value instead\n",
      "\n",
      "See the caveats in the documentation: https://pandas.pydata.org/pandas-docs/stable/user_guide/indexing.html#returning-a-view-versus-a-copy\n",
      "  Cremonese['Rs'] = pd.Series(y).astype(float)\n",
      "<ipython-input-3-9a3ec04d9e1f>:243: SettingWithCopyWarning: \n",
      "A value is trying to be set on a copy of a slice from a DataFrame.\n",
      "Try using .loc[row_indexer,col_indexer] = value instead\n",
      "\n",
      "See the caveats in the documentation: https://pandas.pydata.org/pandas-docs/stable/user_guide/indexing.html#returning-a-view-versus-a-copy\n",
      "  Napoli['Rf'] = pd.Series(x).astype(float)\n",
      "<ipython-input-3-9a3ec04d9e1f>:247: SettingWithCopyWarning: \n",
      "A value is trying to be set on a copy of a slice from a DataFrame.\n",
      "Try using .loc[row_indexer,col_indexer] = value instead\n",
      "\n",
      "See the caveats in the documentation: https://pandas.pydata.org/pandas-docs/stable/user_guide/indexing.html#returning-a-view-versus-a-copy\n",
      "  Napoli['Rs'] = pd.Series(y).astype(float)\n"
     ]
    }
   ],
   "source": [
    "\n",
    "###########SERIEA###########\n",
    "SEA = pd.read_html(\"https://fbref.com/it/comp/11/Serie-A-Seasons#results2022-2023111_home_away::1\")\n",
    "for idx,table in enumerate(SEA):\n",
    "    print('********')\n",
    "    idx\n",
    "    table\n",
    "SerieA = SEA[0]\n",
    "SerieA\n",
    "\n",
    "\n",
    "\n",
    "#\"#############ATALANTA#############\"\n",
    "Ata = pd.read_html(\"https://fbref.com/it/squadre/922493f3/Statistiche-Atalanta#matchlogs_for\")\n",
    "for idx,table in enumerate(Ata):\n",
    "    print('********')\n",
    "    idx\n",
    "    table\n",
    "Atalanta = Ata[1]\n",
    "Atalanta = Atalanta[Atalanta['Rf'].notna()]\n",
    "Atalanta\n",
    "\n",
    "#\"############BOLOGNA####################\"\n",
    "Bol = pd.read_html(\"https://fbref.com/it/squadre/1d8099f8/Statistiche-Bologna#matchlogs_for\")\n",
    "for idx,table in enumerate(Bol):\n",
    "    print('********')\n",
    "    idx\n",
    "    table\n",
    "Bologna = Bol[1]\n",
    "Bologna = Bologna[Bologna['Rf'].notna()]\n",
    "Bologna\n",
    "\n",
    "##############CREMONESE##############\n",
    "Cre = pd.read_html(\"https://fbref.com/it/squadre/9aad3a77/Statistiche-Cremonese#matchlogs_for\")\n",
    "for idx,table in enumerate(Cre):\n",
    "    print('********')\n",
    "    idx\n",
    "    table\n",
    "Cremonese = Cre[1]\n",
    "Cremonese = Cremonese[Cremonese['Rf'].notna()]\n",
    "Cremonese\n",
    "\n",
    "#############EMPOLI################\n",
    "Emp = pd.read_html(\"https://fbref.com/it/squadre/a3d88bd8/Statistiche-Empoli#matchlogs_for\")\n",
    "for idx,table in enumerate(Emp):\n",
    "    print('********')\n",
    "    idx\n",
    "    table\n",
    "Empoli = Emp[1]\n",
    "Empoli = Empoli[Empoli['Rf'].notna()]\n",
    "Empoli\n",
    "\n",
    "###########Fiorentina###############\n",
    "Fio = pd.read_html(\"https://fbref.com/it/squadre/421387cf/Statistiche-Fiorentina#matchlogs_for\")\n",
    "for idx,table in enumerate(Fio):\n",
    "    print('********')\n",
    "    idx\n",
    "    table\n",
    "Fiorentina = Fio[1]\n",
    "Fiorentina = Fiorentina[Fiorentina['Rf'].notna()]\n",
    "Fiorentina\n",
    "\n",
    "#Hellas Verona ################\n",
    "\n",
    "Hve = pd.read_html(\"https://fbref.com/it/squadre/0e72edf2/Statistiche-Hellas-Verona#stats_standard_11\")\n",
    "for idx,table in enumerate(Hve):\n",
    "    print('********')\n",
    "    idx\n",
    "    table\n",
    "HellasVerona = Hve[1]\n",
    "HellasVerona = HellasVerona[HellasVerona['Rf'].notna()]\n",
    "HellasVerona\n",
    "\n",
    "\n",
    "#########Inter############\n",
    "\n",
    "Int = pd.read_html(\"https://fbref.com/it/squadre/d609edc0/Statistiche-Internazionale#stats_standard_11\")\n",
    "for idx,table in enumerate(Int):\n",
    "    print('********')\n",
    "    idx\n",
    "    table\n",
    "Inter = Int[1]\n",
    "Inter = Inter[Inter['Rf'].notna()]\n",
    "Inter\n",
    "\n",
    "########Juventus##########\n",
    "\n",
    "Juv = pd.read_html(\"https://fbref.com/it/squadre/e0652b02/Statistiche-Juventus#stats_standard_11\")\n",
    "for idx,table in enumerate(Juv):\n",
    "    print('********')\n",
    "    idx\n",
    "    table\n",
    "Juve = Juv[1]\n",
    "Juve = Juve[Juve['Rf'].notna()]\n",
    "Juve\n",
    "\n",
    "###########Lazio############\n",
    "Laz = pd.read_html(\"https://fbref.com/it/squadre/7213da33/Statistiche-Lazio#matchlogs_for\")\n",
    "for idx,table in enumerate(Laz):\n",
    "    print('********')\n",
    "    idx\n",
    "    table\n",
    "Lazio = Laz[1]\n",
    "Lazio = Lazio[Lazio['Rf'].notna()]\n",
    "Lazio\n",
    "\n",
    "\n",
    "##########Lecce#############\n",
    "Lec = pd.read_html(\"https://fbref.com/it/squadre/ffcbe334/Statistiche-Lecce#stats_standard_11\")\n",
    "for idx,table in enumerate(Lec):\n",
    "    print('********')\n",
    "    idx\n",
    "    table\n",
    "Lecce = Lec[1]\n",
    "Lecce = Lecce[Lecce['Rf'].notna()]\n",
    "Lecce\n",
    "\n",
    "##########Milan#############\n",
    "Mil = pd.read_html(\"https://fbref.com/it/squadre/dc56fe14/Statistiche-Milan#matchlogs_for\")\n",
    "for idx,table in enumerate(Mil):\n",
    "    print('********')\n",
    "    idx\n",
    "    table\n",
    "Milan = Mil[1]\n",
    "Milan = Milan[Milan['Rf'].notna()]\n",
    "Milan\n",
    "\n",
    "##########Monza#############\n",
    "Mon = pd.read_html(\"https://fbref.com/it/squadre/21680aa4/Statistiche-Monza#stats_standard_11\")\n",
    "for idx,table in enumerate(Mon):\n",
    "    print('********')\n",
    "    idx\n",
    "    table\n",
    "Monza = Mon[1]\n",
    "Monza = Monza[Monza['Rf'].notna()]\n",
    "Monza\n",
    "\n",
    "#########Napoli################\n",
    "\n",
    "Nap = pd.read_html(\"https://fbref.com/it/squadre/d48ad4ff/Statistiche-Napoli#stats_standard_11\")\n",
    "for idx,table in enumerate(Nap):\n",
    "    print('********')\n",
    "    idx\n",
    "    table\n",
    "Napoli = Nap[1]\n",
    "Napoli = Napoli[Napoli['Rf'].notna()]\n",
    "Napoli\n",
    "\n",
    "########Roma##################\n",
    "Rom = pd.read_html(\"https://fbref.com/it/squadre/cf74a709/Statistiche-Roma#matchlogs_for\")\n",
    "for idx,table in enumerate(Rom):\n",
    "    print('********')\n",
    "    idx\n",
    "    table\n",
    "Roma = Rom[1]\n",
    "Roma = Roma[Roma['Rf'].notna()]\n",
    "Roma\n",
    "\n",
    "#########Salernitana############\n",
    "Sal = pd.read_html(\"https://fbref.com/it/squadre/c5577084/Statistiche-Salernitana#stats_standard_11\")\n",
    "for idx,table in enumerate(Sal):\n",
    "    print('********')\n",
    "    idx\n",
    "    table\n",
    "Salernitana = Sal[1]\n",
    "Salernitana = Salernitana[Salernitana['Rf'].notna()]\n",
    "Salernitana\n",
    "\n",
    "########Sampdoria############\n",
    "Sam = pd.read_html(\"https://fbref.com/it/squadre/8ff9e3b3/Statistiche-Sampdoria#matchlogs_for\")\n",
    "for idx,table in enumerate(Sam):\n",
    "    print('********')\n",
    "    idx\n",
    "    table\n",
    "Sampdoria = Sam[1]\n",
    "Sampdoria = Sampdoria[Sampdoria['Rf'].notna()]\n",
    "Sampdoria\n",
    "\n",
    "###########Sassuolo###########\n",
    "Sas = pd.read_html(\"https://fbref.com/it/squadre/e2befd26/Statistiche-Sassuolo#stats_standard_11\")\n",
    "for idx,table in enumerate(Sas):\n",
    "    print('********')\n",
    "    idx\n",
    "    table\n",
    "Sassuolo = Sas[1]\n",
    "Sassuolo = Sassuolo[Sassuolo['Rf'].notna()]\n",
    "Sassuolo\n",
    "\n",
    "######Spezia############\n",
    "\n",
    "Spe = pd.read_html(\"https://fbref.com/it/squadre/68449f6d/Statistiche-Spezia#stats_standard_11\")\n",
    "for idx,table in enumerate(Spe):\n",
    "    print('********')\n",
    "    idx\n",
    "    table\n",
    "Spezia = Spe[1]\n",
    "Spezia = Spezia[Spezia['Rf'].notna()]\n",
    "Spezia\n",
    "\n",
    "########Torino#########\n",
    "Tor = pd.read_html(\"https://fbref.com/it/squadre/105360fe/Statistiche-Torino#stats_standard_11\")\n",
    "for idx,table in enumerate(Tor):\n",
    "    print('********')\n",
    "    idx\n",
    "    table\n",
    "Torino = Tor[1]\n",
    "Torino = Torino[Torino['Rf'].notna()]\n",
    "Torino\n",
    "\n",
    "\n",
    "#######Udinese##########\n",
    "Udi = pd.read_html(\"https://fbref.com/it/squadre/04eea015/Statistiche-Udinese#stats_standard_11\")\n",
    "for idx,table in enumerate(Udi):\n",
    "    print('********')\n",
    "    idx\n",
    "    table\n",
    "Udinese = Udi[1]\n",
    "Udinese = Udinese[Udinese['Rf'].notna()]\n",
    "Udinese\n",
    "print('SerieA Upload!')\n",
    "\n",
    "#PULIZIA DATASET\n",
    "#pulizia dataset\n",
    "x = Sampdoria['Rf']\n",
    "x = x.replace('2 (9)', '2')\n",
    "Sampdoria['Rf'] = pd.Series(x).astype(float)\n",
    "\n",
    "y = Sampdoria['Rs']\n",
    "y = y.replace('2 (8)', '2')\n",
    "Sampdoria['Rs'] = pd.Series(y).astype(float)\n",
    "\n",
    "#pulizia dataset\n",
    "x = Cremonese['Rf']\n",
    "x = x.replace('2 (5)', '2')\n",
    "Cremonese['Rf'] = pd.Series(x).astype(float)\n",
    "\n",
    "y = Cremonese['Rs']\n",
    "y = y.replace('2 (4)', '2')\n",
    "Cremonese['Rs'] = pd.Series(y).astype(float)\n",
    "\n",
    "#pulizia dataset\n",
    "x = Napoli['Rf']\n",
    "x = x.replace('2 (4)', '2')\n",
    "Napoli['Rf'] = pd.Series(x).astype(float)\n",
    "\n",
    "y = Napoli['Rs']\n",
    "y = y.replace('2 (5)', '2')\n",
    "Napoli['Rs'] = pd.Series(y).astype(float)"
   ]
  },
  {
   "attachments": {},
   "cell_type": "markdown",
   "metadata": {},
   "source": [
    "## Premier League "
   ]
  },
  {
   "cell_type": "code",
   "execution_count": 39,
   "metadata": {},
   "outputs": [
    {
     "name": "stdout",
     "output_type": "stream",
     "text": [
      "********\n",
      "********\n",
      "********\n",
      "********\n",
      "********\n",
      "********\n",
      "********\n",
      "********\n",
      "********\n",
      "********\n",
      "********\n",
      "********\n",
      "********\n",
      "********\n",
      "********\n",
      "********\n",
      "********\n",
      "********\n",
      "********\n",
      "********\n",
      "********\n",
      "********\n",
      "********\n",
      "********\n",
      "********\n",
      "********\n",
      "********\n",
      "********\n",
      "********\n",
      "********\n",
      "********\n",
      "********\n",
      "********\n",
      "********\n",
      "********\n",
      "********\n",
      "********\n",
      "********\n",
      "********\n",
      "********\n",
      "********\n",
      "********\n",
      "********\n",
      "********\n",
      "********\n",
      "********\n",
      "********\n",
      "********\n",
      "********\n",
      "********\n",
      "********\n",
      "********\n",
      "********\n",
      "********\n",
      "********\n",
      "********\n",
      "********\n",
      "********\n",
      "********\n",
      "********\n",
      "********\n",
      "********\n",
      "********\n",
      "********\n",
      "********\n",
      "********\n",
      "********\n",
      "********\n",
      "********\n",
      "********\n",
      "********\n",
      "********\n",
      "********\n",
      "********\n",
      "********\n",
      "********\n",
      "********\n",
      "********\n",
      "********\n",
      "********\n",
      "********\n",
      "********\n",
      "********\n",
      "********\n",
      "********\n",
      "********\n",
      "********\n",
      "********\n",
      "********\n",
      "********\n",
      "********\n",
      "********\n",
      "********\n",
      "********\n",
      "********\n",
      "********\n",
      "********\n",
      "********\n",
      "********\n",
      "********\n",
      "********\n",
      "********\n",
      "********\n",
      "********\n",
      "********\n",
      "********\n",
      "********\n",
      "********\n",
      "********\n",
      "********\n",
      "********\n",
      "********\n",
      "********\n",
      "********\n",
      "********\n",
      "********\n",
      "********\n",
      "********\n",
      "********\n",
      "********\n",
      "********\n",
      "********\n",
      "********\n",
      "********\n",
      "********\n",
      "********\n",
      "********\n",
      "********\n",
      "********\n",
      "********\n",
      "********\n",
      "********\n",
      "********\n",
      "********\n",
      "********\n",
      "********\n",
      "********\n",
      "********\n",
      "********\n",
      "********\n",
      "********\n",
      "********\n",
      "********\n",
      "********\n",
      "********\n",
      "********\n",
      "********\n",
      "********\n",
      "********\n",
      "********\n",
      "********\n",
      "********\n",
      "********\n",
      "********\n",
      "********\n",
      "********\n",
      "********\n",
      "********\n",
      "********\n",
      "********\n",
      "********\n",
      "********\n",
      "********\n",
      "********\n",
      "********\n",
      "********\n",
      "********\n",
      "********\n",
      "********\n",
      "********\n",
      "********\n",
      "********\n",
      "********\n",
      "********\n",
      "********\n",
      "********\n",
      "********\n",
      "********\n",
      "********\n",
      "********\n",
      "********\n",
      "********\n",
      "********\n",
      "********\n",
      "********\n",
      "********\n",
      "********\n",
      "********\n",
      "********\n",
      "********\n",
      "********\n",
      "********\n",
      "********\n",
      "********\n",
      "********\n",
      "********\n",
      "********\n",
      "********\n",
      "********\n",
      "********\n",
      "********\n",
      "********\n",
      "********\n",
      "********\n",
      "********\n",
      "********\n",
      "********\n",
      "********\n",
      "********\n",
      "********\n",
      "********\n",
      "********\n",
      "********\n",
      "********\n",
      "********\n",
      "********\n",
      "********\n",
      "********\n",
      "********\n",
      "********\n",
      "********\n",
      "********\n",
      "********\n",
      "********\n",
      "********\n",
      "********\n",
      "********\n",
      "********\n",
      "********\n",
      "********\n",
      "********\n",
      "********\n",
      "********\n",
      "********\n",
      "********\n",
      "********\n",
      "********\n",
      "********\n",
      "********\n",
      "********\n",
      "********\n",
      "********\n",
      "********\n",
      "********\n",
      "********\n",
      "********\n",
      "********\n",
      "********\n",
      "********\n",
      "********\n",
      "********\n",
      "********\n",
      "********\n",
      "********\n",
      "********\n",
      "********\n",
      "********\n",
      "********\n",
      "********\n",
      "********\n",
      "********\n",
      "********\n",
      "********\n",
      "********\n",
      "********\n",
      "********\n",
      "********\n",
      "********\n",
      "********\n",
      "********\n",
      "********\n",
      "********\n",
      "********\n",
      "********\n",
      "********\n",
      "********\n",
      "********\n",
      "********\n",
      "********\n",
      "********\n",
      "PremierLegue Upload!\n"
     ]
    },
    {
     "name": "stderr",
     "output_type": "stream",
     "text": [
      "<ipython-input-39-85dd05b80a1a>:211: SettingWithCopyWarning: \n",
      "A value is trying to be set on a copy of a slice from a DataFrame.\n",
      "Try using .loc[row_indexer,col_indexer] = value instead\n",
      "\n",
      "See the caveats in the documentation: https://pandas.pydata.org/pandas-docs/stable/user_guide/indexing.html#returning-a-view-versus-a-copy\n",
      "  Brighton['Rf'] = pd.Series(x).astype(float)\n",
      "<ipython-input-39-85dd05b80a1a>:216: SettingWithCopyWarning: \n",
      "A value is trying to be set on a copy of a slice from a DataFrame.\n",
      "Try using .loc[row_indexer,col_indexer] = value instead\n",
      "\n",
      "See the caveats in the documentation: https://pandas.pydata.org/pandas-docs/stable/user_guide/indexing.html#returning-a-view-versus-a-copy\n",
      "  Brighton['Rs'] = pd.Series(y).astype(float)\n",
      "<ipython-input-39-85dd05b80a1a>:221: SettingWithCopyWarning: \n",
      "A value is trying to be set on a copy of a slice from a DataFrame.\n",
      "Try using .loc[row_indexer,col_indexer] = value instead\n",
      "\n",
      "See the caveats in the documentation: https://pandas.pydata.org/pandas-docs/stable/user_guide/indexing.html#returning-a-view-versus-a-copy\n",
      "  NewcastleUtd['Rf'] = pd.Series(x).astype(float)\n",
      "<ipython-input-39-85dd05b80a1a>:225: SettingWithCopyWarning: \n",
      "A value is trying to be set on a copy of a slice from a DataFrame.\n",
      "Try using .loc[row_indexer,col_indexer] = value instead\n",
      "\n",
      "See the caveats in the documentation: https://pandas.pydata.org/pandas-docs/stable/user_guide/indexing.html#returning-a-view-versus-a-copy\n",
      "  NewcastleUtd['Rs'] = pd.Series(y).astype(float)\n",
      "<ipython-input-39-85dd05b80a1a>:229: SettingWithCopyWarning: \n",
      "A value is trying to be set on a copy of a slice from a DataFrame.\n",
      "Try using .loc[row_indexer,col_indexer] = value instead\n",
      "\n",
      "See the caveats in the documentation: https://pandas.pydata.org/pandas-docs/stable/user_guide/indexing.html#returning-a-view-versus-a-copy\n",
      "  LeicesterCity['Rf'] = pd.Series(x).astype(float)\n",
      "<ipython-input-39-85dd05b80a1a>:233: SettingWithCopyWarning: \n",
      "A value is trying to be set on a copy of a slice from a DataFrame.\n",
      "Try using .loc[row_indexer,col_indexer] = value instead\n",
      "\n",
      "See the caveats in the documentation: https://pandas.pydata.org/pandas-docs/stable/user_guide/indexing.html#returning-a-view-versus-a-copy\n",
      "  LeicesterCity['Rs'] = pd.Series(y).astype(float)\n",
      "<ipython-input-39-85dd05b80a1a>:237: SettingWithCopyWarning: \n",
      "A value is trying to be set on a copy of a slice from a DataFrame.\n",
      "Try using .loc[row_indexer,col_indexer] = value instead\n",
      "\n",
      "See the caveats in the documentation: https://pandas.pydata.org/pandas-docs/stable/user_guide/indexing.html#returning-a-view-versus-a-copy\n",
      "  Bournemouth['Rf'] = pd.Series(x).astype(float)\n",
      "<ipython-input-39-85dd05b80a1a>:241: SettingWithCopyWarning: \n",
      "A value is trying to be set on a copy of a slice from a DataFrame.\n",
      "Try using .loc[row_indexer,col_indexer] = value instead\n",
      "\n",
      "See the caveats in the documentation: https://pandas.pydata.org/pandas-docs/stable/user_guide/indexing.html#returning-a-view-versus-a-copy\n",
      "  Bournemouth['Rs'] = pd.Series(y).astype(float)\n",
      "<ipython-input-39-85dd05b80a1a>:245: SettingWithCopyWarning: \n",
      "A value is trying to be set on a copy of a slice from a DataFrame.\n",
      "Try using .loc[row_indexer,col_indexer] = value instead\n",
      "\n",
      "See the caveats in the documentation: https://pandas.pydata.org/pandas-docs/stable/user_guide/indexing.html#returning-a-view-versus-a-copy\n",
      "  Brentford['Rf'] = pd.Series(x).astype(float)\n",
      "<ipython-input-39-85dd05b80a1a>:249: SettingWithCopyWarning: \n",
      "A value is trying to be set on a copy of a slice from a DataFrame.\n",
      "Try using .loc[row_indexer,col_indexer] = value instead\n",
      "\n",
      "See the caveats in the documentation: https://pandas.pydata.org/pandas-docs/stable/user_guide/indexing.html#returning-a-view-versus-a-copy\n",
      "  Brentford['Rs'] = pd.Series(y).astype(float)\n",
      "<ipython-input-39-85dd05b80a1a>:253: SettingWithCopyWarning: \n",
      "A value is trying to be set on a copy of a slice from a DataFrame.\n",
      "Try using .loc[row_indexer,col_indexer] = value instead\n",
      "\n",
      "See the caveats in the documentation: https://pandas.pydata.org/pandas-docs/stable/user_guide/indexing.html#returning-a-view-versus-a-copy\n",
      "  Southampton['Rf'] = pd.Series(x).astype(float)\n",
      "<ipython-input-39-85dd05b80a1a>:257: SettingWithCopyWarning: \n",
      "A value is trying to be set on a copy of a slice from a DataFrame.\n",
      "Try using .loc[row_indexer,col_indexer] = value instead\n",
      "\n",
      "See the caveats in the documentation: https://pandas.pydata.org/pandas-docs/stable/user_guide/indexing.html#returning-a-view-versus-a-copy\n",
      "  Southampton['Rs'] = pd.Series(y).astype(float)\n",
      "<ipython-input-39-85dd05b80a1a>:262: SettingWithCopyWarning: \n",
      "A value is trying to be set on a copy of a slice from a DataFrame.\n",
      "Try using .loc[row_indexer,col_indexer] = value instead\n",
      "\n",
      "See the caveats in the documentation: https://pandas.pydata.org/pandas-docs/stable/user_guide/indexing.html#returning-a-view-versus-a-copy\n",
      "  Liverpool['Rf'] = pd.Series(x).astype(float)\n",
      "<ipython-input-39-85dd05b80a1a>:266: SettingWithCopyWarning: \n",
      "A value is trying to be set on a copy of a slice from a DataFrame.\n",
      "Try using .loc[row_indexer,col_indexer] = value instead\n",
      "\n",
      "See the caveats in the documentation: https://pandas.pydata.org/pandas-docs/stable/user_guide/indexing.html#returning-a-view-versus-a-copy\n",
      "  Liverpool['Rs'] = pd.Series(y).astype(float)\n",
      "<ipython-input-39-85dd05b80a1a>:271: SettingWithCopyWarning: \n",
      "A value is trying to be set on a copy of a slice from a DataFrame.\n",
      "Try using .loc[row_indexer,col_indexer] = value instead\n",
      "\n",
      "See the caveats in the documentation: https://pandas.pydata.org/pandas-docs/stable/user_guide/indexing.html#returning-a-view-versus-a-copy\n",
      "  WestHam['Rf'] = pd.Series(x).astype(float)\n",
      "<ipython-input-39-85dd05b80a1a>:275: SettingWithCopyWarning: \n",
      "A value is trying to be set on a copy of a slice from a DataFrame.\n",
      "Try using .loc[row_indexer,col_indexer] = value instead\n",
      "\n",
      "See the caveats in the documentation: https://pandas.pydata.org/pandas-docs/stable/user_guide/indexing.html#returning-a-view-versus-a-copy\n",
      "  WestHam['Rs'] = pd.Series(y).astype(float)\n",
      "<ipython-input-39-85dd05b80a1a>:279: SettingWithCopyWarning: \n",
      "A value is trying to be set on a copy of a slice from a DataFrame.\n",
      "Try using .loc[row_indexer,col_indexer] = value instead\n",
      "\n",
      "See the caveats in the documentation: https://pandas.pydata.org/pandas-docs/stable/user_guide/indexing.html#returning-a-view-versus-a-copy\n",
      "  CrystalPalace['Rf'] = pd.Series(x).astype(float)\n",
      "<ipython-input-39-85dd05b80a1a>:283: SettingWithCopyWarning: \n",
      "A value is trying to be set on a copy of a slice from a DataFrame.\n",
      "Try using .loc[row_indexer,col_indexer] = value instead\n",
      "\n",
      "See the caveats in the documentation: https://pandas.pydata.org/pandas-docs/stable/user_guide/indexing.html#returning-a-view-versus-a-copy\n",
      "  CrystalPalace['Rs'] = pd.Series(y).astype(float)\n",
      "<ipython-input-39-85dd05b80a1a>:288: SettingWithCopyWarning: \n",
      "A value is trying to be set on a copy of a slice from a DataFrame.\n",
      "Try using .loc[row_indexer,col_indexer] = value instead\n",
      "\n",
      "See the caveats in the documentation: https://pandas.pydata.org/pandas-docs/stable/user_guide/indexing.html#returning-a-view-versus-a-copy\n",
      "  Tottenham['Rf'] = pd.Series(x).astype(float)\n",
      "<ipython-input-39-85dd05b80a1a>:292: SettingWithCopyWarning: \n",
      "A value is trying to be set on a copy of a slice from a DataFrame.\n",
      "Try using .loc[row_indexer,col_indexer] = value instead\n",
      "\n",
      "See the caveats in the documentation: https://pandas.pydata.org/pandas-docs/stable/user_guide/indexing.html#returning-a-view-versus-a-copy\n",
      "  Tottenham['Rs'] = pd.Series(y).astype(float)\n"
     ]
    }
   ],
   "source": [
    "\n",
    "#######Arsenal##########\n",
    "Ars = pd.read_html(\"https://fbref.com/it/squadre/18bb7c10/Statistiche-Arsenal#stats_standard_9\")\n",
    "for idx,table in enumerate(Ars):\n",
    "    print('********')\n",
    "    idx\n",
    "    table\n",
    "Arsenal = Ars[1]\n",
    "Arsenal = Arsenal[Arsenal['Rf'].notna()]\n",
    "Arsenal\n",
    "\n",
    "######AstonVilla##########\n",
    "Asv = pd.read_html(\"https://fbref.com/it/squadre/8602292d/Statistiche-Aston-Villa#stats_standard_9\")\n",
    "for idx,table in enumerate(Asv):\n",
    "    print('********')\n",
    "    idx\n",
    "    table\n",
    "AstonVilla = Asv[1]\n",
    "AstonVilla = AstonVilla[AstonVilla['Rf'].notna()]\n",
    "AstonVilla\n",
    "\n",
    "############Bournemouth##########\n",
    "Bou = pd.read_html(\"https://fbref.com/it/squadre/4ba7cbea/Statistiche-Bournemouth#stats_standard_9\")\n",
    "for idx,table in enumerate(Bou):\n",
    "    print('********')\n",
    "    idx\n",
    "    table\n",
    "Bournemouth = Bou[1]\n",
    "Bournemouth = Bournemouth[Bournemouth['Rf'].notna()]\n",
    "\n",
    "\n",
    "#########Brentford##################\n",
    "Bre = pd.read_html(\"https://fbref.com/it/squadre/cd051869/Statistiche-Brentford#stats_standard_9\")\n",
    "for idx,table in enumerate(Bre):\n",
    "    print('********')\n",
    "    idx\n",
    "    table\n",
    "Brentford = Bre[1]\n",
    "Brentford = Brentford[Brentford['Rf'].notna()]\n",
    "\n",
    "\n",
    "#############Brighton#################\n",
    "Bri = pd.read_html(\"https://fbref.com/it/squadre/d07537b9/Statistiche-Brighton-and-Hove-Albion#stats_standard_9\")\n",
    "for idx,table in enumerate(Bre):\n",
    "    print('********')\n",
    "    idx\n",
    "    table\n",
    "Brighton = Bri[1]\n",
    "Brighton = Brighton[Brighton['Rf'].notna()]\n",
    "\n",
    "\n",
    "\n",
    "\n",
    "##########Chelsea#############\n",
    "Che = pd.read_html(\"https://fbref.com/it/squadre/cff3d9bb/Statistiche-Chelsea#stats_standard_9\")\n",
    "for idx,table in enumerate(Che):\n",
    "    print('********')\n",
    "    idx\n",
    "    table\n",
    "Chelsea = Che[1]\n",
    "Chelsea = Chelsea[Chelsea['Rf'].notna()]\n",
    "\n",
    "\n",
    "##########Crystal Palace############\n",
    "Crp = pd.read_html(\"https://fbref.com/it/squadre/47c64c55/Statistiche-Crystal-Palace#stats_standard_9\")\n",
    "for idx,table in enumerate(Crp):\n",
    "    print('********')\n",
    "    idx\n",
    "    table\n",
    "CrystalPalace = Crp[1]\n",
    "CrystalPalace = CrystalPalace[CrystalPalace['Rf'].notna()]\n",
    "\n",
    "\n",
    "##Everton#########\n",
    "Eve = pd.read_html(\"https://fbref.com/it/squadre/d3fd31cc/Statistiche-Everton#stats_standard_9\")\n",
    "for idx,table in enumerate(Eve):\n",
    "    print('********')\n",
    "    idx\n",
    "    table\n",
    "Everton = Eve[1]\n",
    "Everton = Everton[Everton['Rf'].notna()]\n",
    "\n",
    "\n",
    "\n",
    "\n",
    "#############Fulham##########\n",
    "Ful = pd.read_html(\"https://fbref.com/it/squadre/fd962109/Statistiche-Fulham#stats_standard_9\")\n",
    "for idx,table in enumerate(Ful):\n",
    "    print('********')\n",
    "    idx\n",
    "    table\n",
    "Fulham = Ful[1]\n",
    "Fulham = Fulham[Fulham['Rf'].notna()]\n",
    "\n",
    "\n",
    "\n",
    "############LeedsUnited#########\n",
    "Leu = pd.read_html(\"https://fbref.com/it/squadre/5bfb9659/Statistiche-Leeds-United#stats_standard_9\")\n",
    "for idx,table in enumerate(Leu):\n",
    "    print('********')\n",
    "    idx\n",
    "    table\n",
    "LeedsUnited = Leu[1]\n",
    "LeedsUnited = LeedsUnited[LeedsUnited['Rf'].notna()]\n",
    "\n",
    "\n",
    "\n",
    "\n",
    "########Leicester City###########\n",
    "Lec = pd.read_html(\"https://fbref.com/it/squadre/a2d435b3/Statistiche-Leicester-City#stats_standard_9\")\n",
    "for idx,table in enumerate(Lec):\n",
    "    print('********')\n",
    "    idx\n",
    "    table\n",
    "LeicesterCity = Lec[1]\n",
    "LeicesterCity = LeicesterCity[LeicesterCity['Rf'].notna()]\n",
    "\n",
    "\n",
    "##############Liverpool\n",
    "Liv = pd.read_html(\"https://fbref.com/it/squadre/822bd0ba/Statistiche-Liverpool#stats_standard_9\")\n",
    "for idx,table in enumerate(Liv):\n",
    "    print('********')\n",
    "    idx\n",
    "    table\n",
    "Liverpool = Liv[1]\n",
    "Liverpool = Liverpool[Liverpool['Rf'].notna()]\n",
    "\n",
    "\n",
    "\n",
    "\n",
    "###########ManchesterCity\n",
    "Mac = pd.read_html(\"https://fbref.com/it/squadre/b8fd03ef/Statistiche-Manchester-City#stats_standard_9\")\n",
    "for idx,table in enumerate(Mac):\n",
    "    print('********')\n",
    "    idx\n",
    "    table\n",
    "ManchesterCity = Mac[1]\n",
    "ManchesterCity = ManchesterCity[ManchesterCity['Rf'].notna()]\n",
    "\n",
    "\n",
    "#Manchester Utd\n",
    "Mau = pd.read_html(\"https://fbref.com/it/squadre/19538871/Statistiche-Manchester-United#stats_standard_9\")\n",
    "for idx,table in enumerate(Mau):\n",
    "    print('********')\n",
    "    idx\n",
    "    table\n",
    "ManchesterUtd = Mau[1]\n",
    "ManchesterUtd = ManchesterUtd[ManchesterUtd['Rf'].notna()]\n",
    "\n",
    "\n",
    "#Newcastle Utd\n",
    "Neu = pd.read_html(\"https://fbref.com/it/squadre/b2b47a98/Statistiche-Newcastle-United#stats_standard_9\")\n",
    "for idx,table in enumerate(Neu):\n",
    "    print('********')\n",
    "    idx\n",
    "    table\n",
    "NewcastleUtd = Neu[1]\n",
    "NewcastleUtd = NewcastleUtd[NewcastleUtd['Rf'].notna()]\n",
    "\n",
    "\n",
    "#Nott'hamForest\n",
    "Nof = pd.read_html(\"https://fbref.com/it/squadre/e4a775cb/Statistiche-Nottingham-Forest#stats_standard_9\")\n",
    "for idx,table in enumerate(Nof):\n",
    "    print('********')\n",
    "    idx\n",
    "    table\n",
    "NotthamForest = Nof[1]\n",
    "NotthamForest = NotthamForest[NotthamForest['Rf'].notna()]\n",
    "\n",
    "\n",
    "#Southampton\n",
    "Sou = pd.read_html(\"https://fbref.com/it/squadre/33c895d4/Statistiche-Southampton#stats_standard_9\")\n",
    "for idx,table in enumerate(Sou):\n",
    "    print('********')\n",
    "    idx\n",
    "    table\n",
    "Southampton = Sou[1]\n",
    "Southampton = Southampton[Southampton['Rf'].notna()]\n",
    "\n",
    "\n",
    "#Tottenham\n",
    "Tot = pd.read_html(\"https://fbref.com/it/squadre/361ca564/Statistiche-Tottenham-Hotspur#stats_standard_9\")\n",
    "for idx,table in enumerate(Tot):\n",
    "    print('********')\n",
    "    idx\n",
    "    table\n",
    "Tottenham = Sou[1]\n",
    "Tottenham = Tottenham[Tottenham['Rf'].notna()]\n",
    "\n",
    "#WestHam\n",
    "Weh = pd.read_html(\"https://fbref.com/it/squadre/7c21e445/Statistiche-West-Ham-United#stats_standard_9\")\n",
    "for idx,table in enumerate(Weh):\n",
    "    print('********')\n",
    "    idx\n",
    "    table\n",
    "WestHam = Weh[1]\n",
    "WestHam = WestHam[WestHam['Rf'].notna()]\n",
    "\n",
    "#Wolves\n",
    "Wel = pd.read_html(\"https://fbref.com/it/squadre/8cec06e1/Statistiche-Wolverhampton-Wanderers#stats_standard_9\")\n",
    "for idx,table in enumerate(Wel):\n",
    "    print('********')\n",
    "    idx\n",
    "    table\n",
    "Wolves = Wel[1]\n",
    "Wolves = Wolves[Wolves['Rf'].notna()]\n",
    "\n",
    "#pulizia dataset\n",
    "x = Brighton['Rf']\n",
    "x = x.replace('0 (3)', '0')\n",
    "x = x.replace('0 (6)', '0')\n",
    "Brighton['Rf'] = pd.Series(x).astype(float)\n",
    "\n",
    "y = Brighton['Rs']\n",
    "y = y.replace('0 (4)', '0')\n",
    "y = y.replace('0 (7)', '0')\n",
    "Brighton['Rs'] = pd.Series(y).astype(float)\n",
    "\n",
    "#pulizia dataset\n",
    "x = NewcastleUtd['Rf']\n",
    "x = x.replace('0 (3)', '0')\n",
    "NewcastleUtd['Rf'] = pd.Series(x).astype(float)\n",
    "\n",
    "y = NewcastleUtd['Rs']\n",
    "y = y.replace('0 (2)', '0')\n",
    "NewcastleUtd['Rs'] = pd.Series(y).astype(float)\n",
    "#pulizia dataset\n",
    "x = LeicesterCity['Rf']\n",
    "x = x.replace('0 (3)', '0')\n",
    "LeicesterCity['Rf'] = pd.Series(x).astype(float)\n",
    "\n",
    "y = LeicesterCity['Rs']\n",
    "y = y.replace('0 (1)', '0')\n",
    "LeicesterCity['Rs'] = pd.Series(y).astype(float)\n",
    "#pulizia dataset\n",
    "x = Bournemouth['Rf']\n",
    "x = x.replace('2 (5)', '2')\n",
    "Bournemouth['Rf'] = pd.Series(x).astype(float)\n",
    "\n",
    "y = Bournemouth['Rs']\n",
    "y = y.replace('2 (3)', '2')\n",
    "Bournemouth['Rs'] = pd.Series(y).astype(float)\n",
    "#pulizia dataset\n",
    "x = Brentford['Rf']\n",
    "x = x.replace('1 (5)', '1')\n",
    "Brentford['Rf'] = pd.Series(x).astype(float)\n",
    "\n",
    "y = Brentford['Rs']\n",
    "y = y.replace('1 (6)', '1')\n",
    "Brentford['Rs'] = pd.Series(y).astype(float)\n",
    "#pulizia dataset\n",
    "x = Southampton['Rf']\n",
    "x = x.replace('1 (6)', '1')\n",
    "Southampton['Rf'] = pd.Series(x).astype(float)\n",
    "\n",
    "y = Southampton['Rs']\n",
    "y = y.replace('1 (5)', '1')\n",
    "Southampton['Rs'] = pd.Series(y).astype(float)\n",
    "\n",
    "#pulizia dataset\n",
    "x = Liverpool['Rf']\n",
    "x = x.replace('0 (3)', '0')\n",
    "Liverpool['Rf'] = pd.Series(x).astype(float)\n",
    "\n",
    "y = Liverpool['Rs']\n",
    "y = y.replace('0 (2)', '0')\n",
    "Liverpool['Rs'] = pd.Series(y).astype(float)\n",
    "\n",
    "#pulizia dataset\n",
    "x = WestHam['Rf']\n",
    "x = x.replace('2 (9)', '2')\n",
    "WestHam['Rf'] = pd.Series(x).astype(float)\n",
    "\n",
    "y = WestHam['Rs']\n",
    "y = y.replace('2 (10)', '2')\n",
    "WestHam['Rs'] = pd.Series(y).astype(float)\n",
    "#pulizia dataset\n",
    "x = CrystalPalace['Rf']\n",
    "x = x.replace('0 (2)', '0')\n",
    "CrystalPalace['Rf'] = pd.Series(x).astype(float)\n",
    "\n",
    "y = CrystalPalace['Rs']\n",
    "y = y.replace('0 (3)', '0')\n",
    "CrystalPalace['Rs'] = pd.Series(y).astype(float)\n",
    "\n",
    "#pulizia dataset\n",
    "x = Tottenham['Rf']\n",
    "x = x.replace('1 (6)', '1')\n",
    "Tottenham['Rf'] = pd.Series(x).astype(float)\n",
    "\n",
    "y = Tottenham['Rs']\n",
    "y = y.replace('1 (5)', '1')\n",
    "Tottenham['Rs'] = pd.Series(y).astype(float)\n",
    "\n",
    "\n",
    "print(\"PremierLegue Upload!\")"
   ]
  },
  {
   "attachments": {},
   "cell_type": "markdown",
   "metadata": {},
   "source": [
    "## Funzione go"
   ]
  },
  {
   "cell_type": "code",
   "execution_count": 13,
   "metadata": {},
   "outputs": [],
   "source": [
    "import pandas as pd\n",
    "from sklearn.model_selection import train_test_split\n",
    "from sklearn.linear_model import LinearRegression\n",
    "import matplotlib.pyplot as plt\n",
    "\n",
    "def go(data):\n",
    "    # Seleziona le colonne che ti interessano come variabili predittive\n",
    "    # e la colonna 'Gol' come variabile target\n",
    "    features = data[['Rs','Poss.', 'Spettatori']]  # Sostituisci con le tue variabili predittive\n",
    "    target = data['Rf']  # Sostituisci con la colonna dei gol realizzati della tua squadra\n",
    "\n",
    "    # Dividi i dati in set di addestramento e di test\n",
    "    X_train, X_test, y_train, y_test = train_test_split(features, target, test_size=0.35, random_state=1234)\n",
    "\n",
    "    # Crea un modello di regressione lineare\n",
    "    model = LinearRegression()\n",
    "\n",
    "    # Addestra il modello\n",
    "    model.fit(X_train, y_train)\n",
    "\n",
    "    # Valuta le prestazioni del modello sul set di test\n",
    "    score = model.score(X_test, y_test)\n",
    "    print('Score:', score)\n",
    "\n",
    "    val1 = data['Rs'].median()\n",
    "    val2 = data['Poss.'].median()\n",
    "    val3 = data['Spettatori'].median()\n",
    "\n",
    "    # Prevedi i gol realizzati da una squadra utilizzando nuovi dati\n",
    "    new_data = pd.DataFrame([[val1, val2, val3]], columns=['Rs','Poss.', 'Spettatori'])  # Sostituisci con i tuoi valori\n",
    "    predicted_goals = model.predict(new_data)\n",
    "\n",
    "    print('Gol previsti:', predicted_goals)\n",
    "\n",
    "    # Visualizza un grafico dei gol realizzati vs. gol previsti\n",
    "    plt.scatter(y_test, model.predict(X_test))\n",
    "    plt.xlabel('Gol realizzati')\n",
    "    plt.ylabel('Gol previsti')\n",
    "    plt.show()\n"
   ]
  },
  {
   "cell_type": "code",
   "execution_count": 14,
   "metadata": {},
   "outputs": [],
   "source": [
    "#Funzione pulizia \n",
    "def pul(Squadra):\n",
    "    sqpsubset = Squadra[['Rf', 'Rs', 'Poss.', 'Spettatori']].dropna()\n",
    "    return sqpsubset"
   ]
  },
  {
   "cell_type": "code",
   "execution_count": 9,
   "metadata": {},
   "outputs": [],
   "source": [
    "ciao = pul(Napoli)"
   ]
  },
  {
   "cell_type": "code",
   "execution_count": 11,
   "metadata": {},
   "outputs": [],
   "source": [
    "def MP(Squadra):\n",
    "    go(pul(Squadra))"
   ]
  },
  {
   "cell_type": "code",
   "execution_count": 15,
   "metadata": {},
   "outputs": [
    {
     "name": "stdout",
     "output_type": "stream",
     "text": [
      "Score: -0.084474079162971\n",
      "Gol previsti: [1.61232215]\n"
     ]
    },
    {
     "data": {
      "image/png": "[encoded data removed]",
      "text/plain": [
       "<Figure size 432x288 with 1 Axes>"
      ]
     },
     "metadata": {
      "needs_background": "light"
     },
     "output_type": "display_data"
    }
   ],
   "source": [
    "MP(Milan)"
   ]
  },
  {
   "cell_type": "code",
   "execution_count": 16,
   "metadata": {},
   "outputs": [
    {
     "name": "stdout",
     "output_type": "stream",
     "text": [
      "Score: -0.3878236311470049\n",
      "Gol previsti: [0.81560125]\n"
     ]
    },
    {
     "data": {
      "image/png": "[encoded data removed]",
      "text/plain": [
       "<Figure size 432x288 with 1 Axes>"
      ]
     },
     "metadata": {
      "needs_background": "light"
     },
     "output_type": "display_data"
    }
   ],
   "source": [
    "MP(Sampdoria)"
   ]
  },
  {
   "cell_type": "code",
   "execution_count": 17,
   "metadata": {},
   "outputs": [
    {
     "name": "stdout",
     "output_type": "stream",
     "text": [
      "Score: -1.4128065530354883\n",
      "Gol previsti: [0.82829601]\n"
     ]
    },
    {
     "data": {
      "image/png": "[encoded data removed]",
      "text/plain": [
       "<Figure size 432x288 with 1 Axes>"
      ]
     },
     "metadata": {
      "needs_background": "light"
     },
     "output_type": "display_data"
    }
   ],
   "source": [
    "MP(Lecce)"
   ]
  },
  {
   "cell_type": "code",
   "execution_count": 18,
   "metadata": {},
   "outputs": [
    {
     "name": "stdout",
     "output_type": "stream",
     "text": [
      "Score: 0.04867395106238359\n",
      "Gol previsti: [0.97612477]\n"
     ]
    },
    {
     "data": {
      "image/png": "[encoded data removed]",
      "text/plain": [
       "<Figure size 432x288 with 1 Axes>"
      ]
     },
     "metadata": {
      "needs_background": "light"
     },
     "output_type": "display_data"
    }
   ],
   "source": [
    "MP(Spezia)"
   ]
  },
  {
   "cell_type": "code",
   "execution_count": 19,
   "metadata": {},
   "outputs": [
    {
     "name": "stdout",
     "output_type": "stream",
     "text": [
      "Score: -0.009118636125154289\n",
      "Gol previsti: [1.39327373]\n"
     ]
    },
    {
     "data": {
      "image/png": "[encoded data removed]",
      "text/plain": [
       "<Figure size 432x288 with 1 Axes>"
      ]
     },
     "metadata": {
      "needs_background": "light"
     },
     "output_type": "display_data"
    }
   ],
   "source": [
    "MP(Torino)"
   ]
  },
  {
   "cell_type": "code",
   "execution_count": 40,
   "metadata": {},
   "outputs": [
    {
     "name": "stdout",
     "output_type": "stream",
     "text": [
      "Score: -0.4251441678593222\n",
      "Gol previsti: [1.56217265]\n"
     ]
    },
    {
     "data": {
      "image/png": "[encoded data removed]",
      "text/plain": [
       "<Figure size 432x288 with 1 Axes>"
      ]
     },
     "metadata": {
      "needs_background": "light"
     },
     "output_type": "display_data"
    },
    {
     "name": "stdout",
     "output_type": "stream",
     "text": [
      "Score: -0.009118636125154289\n",
      "Gol previsti: [1.39327373]\n"
     ]
    },
    {
     "data": {
      "image/png": "[encoded data removed]",
      "text/plain": [
       "<Figure size 432x288 with 1 Axes>"
      ]
     },
     "metadata": {
      "needs_background": "light"
     },
     "output_type": "display_data"
    }
   ],
   "source": [
    "MP(Fiorentina)\n",
    "MP(Torino)"
   ]
  },
  {
   "cell_type": "markdown",
   "metadata": {},
   "source": []
  },
  {
   "cell_type": "code",
   "execution_count": 21,
   "metadata": {},
   "outputs": [
    {
     "name": "stdout",
     "output_type": "stream",
     "text": [
      "Score: -0.1127192547242275\n",
      "Gol previsti: [2.35786851]\n"
     ]
    },
    {
     "data": {
      "image/png": "[encoded data removed]",
      "text/plain": [
       "<Figure size 432x288 with 1 Axes>"
      ]
     },
     "metadata": {
      "needs_background": "light"
     },
     "output_type": "display_data"
    }
   ],
   "source": [
    "MP(Napoli\n",
    "   )"
   ]
  },
  {
   "cell_type": "code",
   "execution_count": 22,
   "metadata": {},
   "outputs": [
    {
     "name": "stdout",
     "output_type": "stream",
     "text": [
      "Score: -0.8227268812904036\n",
      "Gol previsti: [1.93108123]\n"
     ]
    },
    {
     "data": {
      "image/png": "[encoded data removed]",
      "text/plain": [
       "<Figure size 432x288 with 1 Axes>"
      ]
     },
     "metadata": {
      "needs_background": "light"
     },
     "output_type": "display_data"
    }
   ],
   "source": [
    "MP(Inter)"
   ]
  },
  {
   "cell_type": "code",
   "execution_count": 23,
   "metadata": {},
   "outputs": [
    {
     "name": "stdout",
     "output_type": "stream",
     "text": [
      "Score: 0.041408183449836655\n",
      "Gol previsti: [1.41630318]\n"
     ]
    },
    {
     "data": {
      "image/png": "[encoded data removed]",
      "text/plain": [
       "<Figure size 432x288 with 1 Axes>"
      ]
     },
     "metadata": {
      "needs_background": "light"
     },
     "output_type": "display_data"
    }
   ],
   "source": [
    "MP(Udinese)"
   ]
  },
  {
   "cell_type": "code",
   "execution_count": 24,
   "metadata": {},
   "outputs": [
    {
     "name": "stdout",
     "output_type": "stream",
     "text": [
      "Score: -0.24063051184895645\n",
      "Gol previsti: [1.5749124]\n"
     ]
    },
    {
     "data": {
      "image/png": "[encoded data removed]",
      "text/plain": [
       "<Figure size 432x288 with 1 Axes>"
      ]
     },
     "metadata": {
      "needs_background": "light"
     },
     "output_type": "display_data"
    }
   ],
   "source": [
    "MP(Lazio)"
   ]
  },
  {
   "cell_type": "code",
   "execution_count": 25,
   "metadata": {},
   "outputs": [
    {
     "name": "stdout",
     "output_type": "stream",
     "text": [
      "Score: -0.37240102693416577\n",
      "Gol previsti: [1.26319848]\n"
     ]
    },
    {
     "data": {
      "image/png": "[encoded data removed]",
      "text/plain": [
       "<Figure size 432x288 with 1 Axes>"
      ]
     },
     "metadata": {
      "needs_background": "light"
     },
     "output_type": "display_data"
    }
   ],
   "source": [
    "MP(Roma)"
   ]
  },
  {
   "cell_type": "code",
   "execution_count": 26,
   "metadata": {},
   "outputs": [
    {
     "name": "stdout",
     "output_type": "stream",
     "text": [
      "Score: -0.0160561626752862\n",
      "Gol previsti: [1.13825313]\n"
     ]
    },
    {
     "data": {
      "image/png": "[encoded data removed]",
      "text/plain": [
       "<Figure size 432x288 with 1 Axes>"
      ]
     },
     "metadata": {
      "needs_background": "light"
     },
     "output_type": "display_data"
    }
   ],
   "source": [
    "MP(Salernitana)"
   ]
  },
  {
   "cell_type": "code",
   "execution_count": 27,
   "metadata": {},
   "outputs": [
    {
     "name": "stdout",
     "output_type": "stream",
     "text": [
      "Score: -0.5604598892511279\n",
      "Gol previsti: [1.06268669]\n"
     ]
    },
    {
     "data": {
      "image/png": "[encoded data removed]",
      "text/plain": [
       "<Figure size 432x288 with 1 Axes>"
      ]
     },
     "metadata": {
      "needs_background": "light"
     },
     "output_type": "display_data"
    }
   ],
   "source": [
    "MP(Empoli)"
   ]
  },
  {
   "cell_type": "code",
   "execution_count": 28,
   "metadata": {},
   "outputs": [
    {
     "name": "stdout",
     "output_type": "stream",
     "text": [
      "Score: -0.23705217526856792\n",
      "Gol previsti: [1.70005025]\n"
     ]
    },
    {
     "data": {
      "image/png": "[encoded data removed]",
      "text/plain": [
       "<Figure size 432x288 with 1 Axes>"
      ]
     },
     "metadata": {
      "needs_background": "light"
     },
     "output_type": "display_data"
    }
   ],
   "source": [
    "MP(Juve)"
   ]
  },
  {
   "cell_type": "code",
   "execution_count": 42,
   "metadata": {},
   "outputs": [
    {
     "name": "stdout",
     "output_type": "stream",
     "text": [
      "Score: 0.11344864412068123\n",
      "Gol previsti: [1.47868931]\n"
     ]
    },
    {
     "data": {
      "image/png": "[encoded data removed]",
      "text/plain": [
       "<Figure size 432x288 with 1 Axes>"
      ]
     },
     "metadata": {
      "needs_background": "light"
     },
     "output_type": "display_data"
    },
    {
     "name": "stdout",
     "output_type": "stream",
     "text": [
      "Score: 0.014013466922611184\n",
      "Gol previsti: [1.38276046]\n"
     ]
    },
    {
     "data": {
      "image/png": "[encoded data removed]",
      "text/plain": [
       "<Figure size 432x288 with 1 Axes>"
      ]
     },
     "metadata": {
      "needs_background": "light"
     },
     "output_type": "display_data"
    }
   ],
   "source": [
    "MP(WestHam)\n",
    "MP(LeedsUnited)"
   ]
  },
  {
   "cell_type": "code",
   "execution_count": 43,
   "metadata": {},
   "outputs": [
    {
     "name": "stdout",
     "output_type": "stream",
     "text": [
      "Score: -0.5644650049431117\n",
      "Gol previsti: [2.22129209]\n"
     ]
    },
    {
     "data": {
      "image/png": "[encoded data removed]",
      "text/plain": [
       "<Figure size 432x288 with 1 Axes>"
      ]
     },
     "metadata": {
      "needs_background": "light"
     },
     "output_type": "display_data"
    },
    {
     "name": "stdout",
     "output_type": "stream",
     "text": [
      "Score: 0.007852433768736566\n",
      "Gol previsti: [1.11813648]\n"
     ]
    },
    {
     "data": {
      "image/png": "[encoded data removed]",
      "text/plain": [
       "<Figure size 432x288 with 1 Axes>"
      ]
     },
     "metadata": {
      "needs_background": "light"
     },
     "output_type": "display_data"
    }
   ],
   "source": [
    "MP(Brighton)\n",
    "MP(Southampton)"
   ]
  },
  {
   "cell_type": "code",
   "execution_count": 44,
   "metadata": {},
   "outputs": [
    {
     "name": "stdout",
     "output_type": "stream",
     "text": [
      "Score: -0.3120238942119953\n",
      "Gol previsti: [2.61214546]\n"
     ]
    },
    {
     "data": {
      "image/png": "[encoded data removed]",
      "text/plain": [
       "<Figure size 432x288 with 1 Axes>"
      ]
     },
     "metadata": {
      "needs_background": "light"
     },
     "output_type": "display_data"
    },
    {
     "name": "stdout",
     "output_type": "stream",
     "text": [
      "Score: -0.007884733620144635\n",
      "Gol previsti: [1.08503324]\n"
     ]
    },
    {
     "data": {
      "image/png": "[encoded data removed]",
      "text/plain": [
       "<Figure size 432x288 with 1 Axes>"
      ]
     },
     "metadata": {
      "needs_background": "light"
     },
     "output_type": "display_data"
    }
   ],
   "source": [
    "MP(ManchesterCity)\n",
    "MP(Chelsea)"
   ]
  },
  {
   "cell_type": "code",
   "execution_count": null,
   "metadata": {},
   "outputs": [],
   "source": []
  }
 ],
 "metadata": {
  "kernelspec": {
   "display_name": "base",
   "language": "python",
   "name": "python3"
  },
  "language_info": {
   "codemirror_mode": {
    "name": "ipython",
    "version": 3
   },
   "file_extension": ".py",
   "mimetype": "text/x-python",
   "name": "python",
   "nbconvert_exporter": "python",
   "pygments_lexer": "ipython3",
   "version": "3.8.8"
  },
  "orig_nbformat": 4
 },
 "nbformat": 4,
 "nbformat_minor": 2
}
